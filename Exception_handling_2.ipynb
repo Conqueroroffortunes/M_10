{
  "nbformat": 4,
  "nbformat_minor": 0,
  "metadata": {
    "colab": {
      "provenance": [],
      "authorship_tag": "ABX9TyPoWjnJJGI4IqlsixIHailz",
      "include_colab_link": true
    },
    "kernelspec": {
      "name": "python3",
      "display_name": "Python 3"
    },
    "language_info": {
      "name": "python"
    }
  },
  "cells": [
    {
      "cell_type": "markdown",
      "metadata": {
        "id": "view-in-github",
        "colab_type": "text"
      },
      "source": [
        "<a href=\"https://colab.research.google.com/github/Conqueroroffortunes/M_10/blob/main/Exception_handling_2.ipynb\" target=\"_parent\"><img src=\"https://colab.research.google.com/assets/colab-badge.svg\" alt=\"Open In Colab\"/></a>"
      ]
    },
    {
      "cell_type": "code",
      "execution_count": 12,
      "metadata": {
        "id": "SWRKurO78JbL"
      },
      "outputs": [],
      "source": []
    },
    {
      "cell_type": "markdown",
      "source": [
        "Q1. Explain why we have to use the Exception class while creating a Custom Exception.\n",
        "Note: Here Exception class refers to the base class for all the exceptions."
      ],
      "metadata": {
        "id": "CrPYSgbM8TDI"
      }
    },
    {
      "cell_type": "code",
      "source": [
        "'''\n",
        "Using the Exception class as the base for creating custom exceptions ensures that your custom exceptions are\n",
        "compatible with Python's exception handling system. It allows you to leverage built-in features such as:\n",
        "Catching Exceptions: Custom exceptions can be caught using try and except blocks.\n",
        "Hierarchical Organization: Custom exceptions can be organized within the exception hierarchy, making it easier\n",
        "to handle specific types of exceptions.\n",
        "Consistency: Following the convention of extending Exception promotes consistency in error handling across Python codebases.\n",
        "'''\n",
        "a=1"
      ],
      "metadata": {
        "id": "FNd6Nt7u8VQ7"
      },
      "execution_count": 13,
      "outputs": []
    },
    {
      "cell_type": "markdown",
      "source": [
        "Q2. Write a python program to print Python Exception Hierarchy."
      ],
      "metadata": {
        "id": "-f6t1FH38mWY"
      }
    },
    {
      "cell_type": "code",
      "source": [
        "import builtins\n",
        "def print_exception_hierarchy():\n",
        "    print(\"Python Exception Hierarchy:\")\n",
        "    for name in dir(builtins):\n",
        "        if name.endswith('Error') or name == 'Exception':\n",
        "            print(f\" - {name}\")\n",
        "print_exception_hierarchy()"
      ],
      "metadata": {
        "colab": {
          "base_uri": "https://localhost:8080/"
        },
        "collapsed": true,
        "id": "yKsEXILm8jZS",
        "outputId": "9de97559-4914-482c-f680-3ea98a08953d"
      },
      "execution_count": 14,
      "outputs": [
        {
          "output_type": "stream",
          "name": "stdout",
          "text": [
            "Python Exception Hierarchy:\n",
            " - ArithmeticError\n",
            " - AssertionError\n",
            " - AttributeError\n",
            " - BlockingIOError\n",
            " - BrokenPipeError\n",
            " - BufferError\n",
            " - ChildProcessError\n",
            " - ConnectionAbortedError\n",
            " - ConnectionError\n",
            " - ConnectionRefusedError\n",
            " - ConnectionResetError\n",
            " - EOFError\n",
            " - EnvironmentError\n",
            " - Exception\n",
            " - FileExistsError\n",
            " - FileNotFoundError\n",
            " - FloatingPointError\n",
            " - IOError\n",
            " - ImportError\n",
            " - IndentationError\n",
            " - IndexError\n",
            " - InterruptedError\n",
            " - IsADirectoryError\n",
            " - KeyError\n",
            " - LookupError\n",
            " - MemoryError\n",
            " - ModuleNotFoundError\n",
            " - NameError\n",
            " - NotADirectoryError\n",
            " - NotImplementedError\n",
            " - OSError\n",
            " - OverflowError\n",
            " - PermissionError\n",
            " - ProcessLookupError\n",
            " - RecursionError\n",
            " - ReferenceError\n",
            " - RuntimeError\n",
            " - SyntaxError\n",
            " - SystemError\n",
            " - TabError\n",
            " - TimeoutError\n",
            " - TypeError\n",
            " - UnboundLocalError\n",
            " - UnicodeDecodeError\n",
            " - UnicodeEncodeError\n",
            " - UnicodeError\n",
            " - UnicodeTranslateError\n",
            " - ValueError\n",
            " - ZeroDivisionError\n"
          ]
        }
      ]
    },
    {
      "cell_type": "markdown",
      "source": [
        "Q3. What errors are defined in the ArithmeticError class? Explain any two with an example."
      ],
      "metadata": {
        "id": "Fa6z46j49MMD"
      }
    },
    {
      "cell_type": "code",
      "source": [
        "'''\n",
        "The ArithmeticError class is the base class for all errors related to arithmetic operations. Some specific errors defined in this class include:\n",
        "ZeroDivisionError: Raised when a division or modulo operation is performed with zero as the divisor.\n",
        "OverflowError: Raised when the result of an arithmetic operation is too large to be expressed within the range of the data type.\n",
        "'''\n",
        "#ZeroDivisionError\n",
        "try:\n",
        "    x = 1 / 0\n",
        "except ZeroDivisionError as e:\n",
        "    print(f\"this is an exception ::Error: {e}\")\n",
        "\n",
        "#OverflowError\n",
        "try:\n",
        "    x = 1e1000 ** 1000  # This will raise OverflowError\n",
        "except OverflowError as e:\n",
        "    print(f\"this is an exception :Error: {e}\")\n",
        "\n"
      ],
      "metadata": {
        "colab": {
          "base_uri": "https://localhost:8080/"
        },
        "id": "eTt_zivD8tww",
        "outputId": "539f89a7-40c6-4c2d-d4db-a5beda2f72d2"
      },
      "execution_count": 15,
      "outputs": [
        {
          "output_type": "stream",
          "name": "stdout",
          "text": [
            "this is an exception ::Error: division by zero\n"
          ]
        }
      ]
    },
    {
      "cell_type": "markdown",
      "source": [
        "Q4. Why LookupError class is used? Explain with an example KeyError and IndexError."
      ],
      "metadata": {
        "id": "ffYwz-HC9ybP"
      }
    },
    {
      "cell_type": "code",
      "source": [
        "'''\n",
        "The LookupError class is the base class for exceptions that occur when a lookup on a collection (like a list or dictionary) fails.\n",
        "'''\n",
        "#KeyError: Raised when trying to access a dictionary with a key that doesn’t exist.\n",
        "my_dict = {'a': 1, 'b': 2}\n",
        "try:\n",
        "    print(my_dict['c'])\n",
        "except KeyError as e:\n",
        "    print(f\"this is an exception :Error: {e}\")\n",
        "#IndexError: Raised when trying to access a list with an index that is out of range.\n",
        "my_list = [1, 2, 3]\n",
        "try:\n",
        "    print(my_list[5])\n",
        "except IndexError as e:\n",
        "    print(f\"this is an exception :Error: {e}\")\n"
      ],
      "metadata": {
        "colab": {
          "base_uri": "https://localhost:8080/"
        },
        "id": "T-MnUiGz9p-o",
        "outputId": "7b4174fe-f570-4000-fce5-c1951c42acd7"
      },
      "execution_count": 16,
      "outputs": [
        {
          "output_type": "stream",
          "name": "stdout",
          "text": [
            "this is an exception :Error: 'c'\n",
            "this is an exception :Error: list index out of range\n"
          ]
        }
      ]
    },
    {
      "cell_type": "markdown",
      "source": [
        "Q5. Explain ImportError. What is ModuleNotFoundError?"
      ],
      "metadata": {
        "id": "2Pi0LFU8-KcD"
      }
    },
    {
      "cell_type": "code",
      "source": [
        "'''\n",
        "ImportError and ModuleNotFoundError\n",
        "'''\n",
        "#ImportError: Raised when an import statement fails to find the module or a specific name within the module.\n",
        "try:\n",
        "    import non_existent_module\n",
        "except ImportError as e:\n",
        "    print(f\"this is an exception :Error: {e}\")\n",
        "#ModuleNotFoundError: A subclass of ImportError, raised specifically when the module cannot be found.\n",
        "try:\n",
        "    import non_existent_module\n",
        "except ModuleNotFoundError as e:\n",
        "    print(f\"this is an exception :Error: {e}\")\n"
      ],
      "metadata": {
        "colab": {
          "base_uri": "https://localhost:8080/"
        },
        "id": "4_osMgrh-BxQ",
        "outputId": "d3d50ea7-0e3b-4199-ea73-98692ca38465"
      },
      "execution_count": 17,
      "outputs": [
        {
          "output_type": "stream",
          "name": "stdout",
          "text": [
            "this is an exception :Error: No module named 'non_existent_module'\n",
            "this is an exception :Error: No module named 'non_existent_module'\n"
          ]
        }
      ]
    },
    {
      "cell_type": "markdown",
      "source": [
        "Q6. List down some best practices for exception handling in python."
      ],
      "metadata": {
        "id": "p5NOWRwo-hKw"
      }
    },
    {
      "cell_type": "code",
      "source": [
        "'''\n",
        "Catch Specific Exceptions: Always catch specific exceptions rather than using a bare except. This helps\n",
        "in understanding the type of error that occurred.\n",
        "Use Finally for Cleanup: Use the finally block for cleanup actions (like closing files or releasing\n",
        "resources) that must occur regardless of whether an exception was raised.\n",
        "Log Exceptions: Consider logging exceptions rather than just printing them to standard output. This is\n",
        "helpful for debugging and maintaining logs.\n",
        "Use Custom Exceptions: Create custom exceptions for application-specific error handling to improve clarity.\n",
        "Avoid Swallowing Exceptions: Don’t use empty except blocks; it can hide errors and make debugging difficult.\n",
        "Maintain Code Readability: Keep exception handling code simple and easy to read, avoiding overly complex structures.\n",
        "'''\n",
        "a=6"
      ],
      "metadata": {
        "id": "eLLuNGpC-gUf"
      },
      "execution_count": 18,
      "outputs": []
    },
    {
      "cell_type": "code",
      "source": [],
      "metadata": {
        "id": "6Nto9MOr-pKm"
      },
      "execution_count": 18,
      "outputs": []
    }
  ]
}