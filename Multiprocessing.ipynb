{
  "nbformat": 4,
  "nbformat_minor": 0,
  "metadata": {
    "colab": {
      "provenance": [],
      "authorship_tag": "ABX9TyPfrBaMvZZwfnq84g0vzaxL",
      "include_colab_link": true
    },
    "kernelspec": {
      "name": "python3",
      "display_name": "Python 3"
    },
    "language_info": {
      "name": "python"
    }
  },
  "cells": [
    {
      "cell_type": "markdown",
      "metadata": {
        "id": "view-in-github",
        "colab_type": "text"
      },
      "source": [
        "<a href=\"https://colab.research.google.com/github/Conqueroroffortunes/M_10/blob/main/Multiprocessing.ipynb\" target=\"_parent\"><img src=\"https://colab.research.google.com/assets/colab-badge.svg\" alt=\"Open In Colab\"/></a>"
      ]
    },
    {
      "cell_type": "code",
      "execution_count": null,
      "metadata": {
        "id": "nojOKdc2BiTd"
      },
      "outputs": [],
      "source": []
    },
    {
      "cell_type": "markdown",
      "source": [
        "Q1. What is multiprocessing in python? Why is it useful?"
      ],
      "metadata": {
        "id": "u5d_CQ8CBo4D"
      }
    },
    {
      "cell_type": "code",
      "source": [
        "'''\n",
        "Multiprocessing is a programming technique that allows the execution of multiple processes concurrently.\n",
        "Each process has its own Python interpreter and memory space, allowing for parallel execution of tasks. This is\n",
        "especially useful for CPU-bound tasks, as it enables the use of multiple CPU cores.\n",
        "'''\n",
        "a=1"
      ],
      "metadata": {
        "id": "KRqEE0aABpIT"
      },
      "execution_count": 1,
      "outputs": []
    },
    {
      "cell_type": "markdown",
      "source": [
        "Q2. What are the differences between multiprocessing and multithreading?"
      ],
      "metadata": {
        "id": "ARbzvoBzCCUm"
      }
    },
    {
      "cell_type": "code",
      "source": [
        "'''\n",
        "Multiprocessing and multithreading differ in several key ways such as :\n",
        "\n",
        "In multiprocessing, each process has its own memory space, allowing for parallel execution\n",
        "without interference. It bypasses the Global Interpreter Lock (GIL), making it more suitable for CPU-bound tasks.\n",
        "In contrast, multithreading shares the same memory space among threads, which can lead to\n",
        "race conditions. The GIL limits multithreading performance, as only one thread can execute at a time.\n",
        "Multiprocessing is generally better for CPU-bound tasks, while multithreading is more\n",
        "efficient for I/O-bound tasks. Additionally, multiprocessing can be more complex to manage,\n",
        "while multithreading simplifies data sharing but introduces potential synchronization issues.\n",
        "'''\n",
        "a=2"
      ],
      "metadata": {
        "id": "5E0LqQQhByq1"
      },
      "execution_count": 6,
      "outputs": []
    },
    {
      "cell_type": "markdown",
      "source": [
        "Q3. Write a python code to create a process using the multiprocessing module."
      ],
      "metadata": {
        "id": "DfUzG00cCKbd"
      }
    },
    {
      "cell_type": "code",
      "source": [
        "import multiprocessing\n",
        "\n",
        "def worker():\n",
        "    print(\"Worker process is running.\")\n",
        "if __name__ == \"__main__\":\n",
        "    process = multiprocessing.Process(target=worker)\n",
        "    process.start()\n",
        "    process.join()\n"
      ],
      "metadata": {
        "colab": {
          "base_uri": "https://localhost:8080/"
        },
        "id": "e8fSac-6CMZX",
        "outputId": "f42751a9-6b25-4d77-a1f6-3513ec55606f"
      },
      "execution_count": 2,
      "outputs": [
        {
          "output_type": "stream",
          "name": "stdout",
          "text": [
            "Worker process is running.\n"
          ]
        }
      ]
    },
    {
      "cell_type": "markdown",
      "source": [
        "Q4. What is a multiprocessing pool in python? Why is it used?"
      ],
      "metadata": {
        "id": "3EGngAehCRJG"
      }
    },
    {
      "cell_type": "code",
      "source": [
        "'''\n",
        "A multiprocessing pool is a way to manage a group of worker processes. It allows you to\n",
        " parallelize the execution of a function across multiple input values, distributing the\n",
        " input data to the processes in the pool. This is useful for performing operations on large\n",
        " datasets efficiently.\n",
        "'''\n",
        "a=4"
      ],
      "metadata": {
        "id": "C3biiNRFCPwr"
      },
      "execution_count": 3,
      "outputs": []
    },
    {
      "cell_type": "markdown",
      "source": [
        "Q5. How can we create a pool of worker processes in python using the multiprocessing module?"
      ],
      "metadata": {
        "id": "uVMpJNb1CapN"
      }
    },
    {
      "cell_type": "code",
      "source": [
        "from multiprocessing import Pool\n",
        "\n",
        "def square(n):\n",
        "    return n * n\n",
        "if __name__ == \"__main__\":\n",
        "    with Pool(processes=4) as pool:\n",
        "        results = pool.map(square, [1, 2, 3, 4, 5])\n",
        "    print(results)\n"
      ],
      "metadata": {
        "colab": {
          "base_uri": "https://localhost:8080/"
        },
        "id": "pvsiMKLBCXoy",
        "outputId": "cbb0af61-c906-4f7d-c0d6-89d72ef691a9"
      },
      "execution_count": 4,
      "outputs": [
        {
          "output_type": "stream",
          "name": "stdout",
          "text": [
            "[1, 4, 9, 16, 25]\n"
          ]
        }
      ]
    },
    {
      "cell_type": "markdown",
      "source": [
        "Q6. Write a python program to create 4 processes, each process should print a different number using the\n",
        "multiprocessing module in python."
      ],
      "metadata": {
        "id": "m_7DiP6yCg8p"
      }
    },
    {
      "cell_type": "code",
      "source": [
        "import multiprocessing\n",
        "\n",
        "def print_number(num):\n",
        "    print(f\"Process {num} is running.\")\n",
        "if __name__ == \"__main__\":\n",
        "    processes = []\n",
        "    for i in range(4):\n",
        "        process = multiprocessing.Process(target=print_number, args=(i,))\n",
        "        processes.append(process)\n",
        "        process.start()\n",
        "    for process in processes:\n",
        "        process.join()\n"
      ],
      "metadata": {
        "colab": {
          "base_uri": "https://localhost:8080/"
        },
        "id": "BpOFlE7XCgHz",
        "outputId": "b118e13a-9f37-4c57-a8cc-508a39ce27d9"
      },
      "execution_count": 5,
      "outputs": [
        {
          "output_type": "stream",
          "name": "stdout",
          "text": [
            "Process 0 is running.Process 1 is running.\n",
            "\n",
            "Process 2 is running.Process 3 is running.\n",
            "\n"
          ]
        }
      ]
    },
    {
      "cell_type": "code",
      "source": [],
      "metadata": {
        "id": "FM2YyivTClXC"
      },
      "execution_count": null,
      "outputs": []
    }
  ]
}