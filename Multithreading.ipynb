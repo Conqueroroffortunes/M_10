{
  "nbformat": 4,
  "nbformat_minor": 0,
  "metadata": {
    "colab": {
      "provenance": [],
      "authorship_tag": "ABX9TyMmpKCJ8vUtHBoh9bb7b5gx",
      "include_colab_link": true
    },
    "kernelspec": {
      "name": "python3",
      "display_name": "Python 3"
    },
    "language_info": {
      "name": "python"
    }
  },
  "cells": [
    {
      "cell_type": "markdown",
      "metadata": {
        "id": "view-in-github",
        "colab_type": "text"
      },
      "source": [
        "<a href=\"https://colab.research.google.com/github/Conqueroroffortunes/M_10/blob/main/Multithreading.ipynb\" target=\"_parent\"><img src=\"https://colab.research.google.com/assets/colab-badge.svg\" alt=\"Open In Colab\"/></a>"
      ]
    },
    {
      "cell_type": "code",
      "execution_count": 7,
      "metadata": {
        "id": "Uh94Er7G_FxQ"
      },
      "outputs": [],
      "source": []
    },
    {
      "cell_type": "markdown",
      "source": [
        "Q1. What is multithreading in python? Why is it used? Name the module used to handle threads in python."
      ],
      "metadata": {
        "id": "i912avXV_JOX"
      }
    },
    {
      "cell_type": "code",
      "source": [
        "'''\n",
        "Multithreading is a programming concept that allows multiple threads to run concurrently within\n",
        "a single process. Each thread operates independently, enabling parallel execution of tasks. This is particularly\n",
        " useful for I/O-bound tasks, such as network operations, file reading/writing, and other activities where waiting\n",
        " for external resources can slow down the program.\n",
        "'''\n",
        "a=1"
      ],
      "metadata": {
        "id": "dI47JWBq_SEF"
      },
      "execution_count": 8,
      "outputs": []
    },
    {
      "cell_type": "markdown",
      "source": [
        "Q2. Why threading module used? Write the use of the following functions, 1.activeCount\n",
        "2.currentThread 3.enumerate"
      ],
      "metadata": {
        "id": "4N2orWQn_bCO"
      }
    },
    {
      "cell_type": "code",
      "source": [
        "'''\n",
        "The threading module provides a higher-level interface for working with threads in Python. It allows for easier\n",
        "creation, management, and synchronization of threads.\n",
        "Functions:\n",
        "activeCount(): Returns the number of Thread objects currently alive. This includes both daemon and non-daemon threads.\n",
        "currentThread(): Returns the current Thread object, corresponding to the caller's thread\n",
        "of control. This can be useful for debugging or logging.\n",
        "enumerate(): Returns a list of all Thread objects currently alive. This can be useful\n",
        "for checking the status of threads in the application.\n",
        "'''\n",
        "a=2"
      ],
      "metadata": {
        "id": "XjJoZ4t1_lGz"
      },
      "execution_count": 9,
      "outputs": []
    },
    {
      "cell_type": "markdown",
      "source": [
        "Q3. Explain the following functions: run()\n",
        "start()\n",
        "join()\n",
        "isAlive()"
      ],
      "metadata": {
        "id": "1XxyVvW5_2aU"
      }
    },
    {
      "cell_type": "code",
      "source": [
        "'''\n",
        "run(): This is the entry point for a thread. It contains the code that will be executed when the thread is started. You can override\n",
        "this method in a subclass of Thread to define the thread's behavior.\n",
        "start(): This method is called to start the thread's activity. It invokes the run() method in a\n",
        "separate thread of control.\n",
        "join(): This method is called on a thread object to wait for that thread to finish its execution. It blocks the\n",
        "calling thread until the thread whose join() method is called terminates.\n",
        "isAlive(): This method returns True if the thread is still running and False if it has finished executing. It can be\n",
        "used to check the status of a thread.\n",
        "'''\n",
        "a=3"
      ],
      "metadata": {
        "id": "Q9CbGT6A_1k3"
      },
      "execution_count": 10,
      "outputs": []
    },
    {
      "cell_type": "markdown",
      "source": [
        "Q4. Write a python program to create two threads. Thread one must print the list of squares and thread\n",
        "two must print the list of cubes."
      ],
      "metadata": {
        "id": "qiz4kqncAgnI"
      }
    },
    {
      "cell_type": "code",
      "source": [
        "import threading\n",
        "def print_squares():\n",
        "    squares = [i**2 for i in range(10)]\n",
        "    print(\"Squares:\", squares)\n",
        "def print_cubes():\n",
        "    cubes = [i**3 for i in range(10)]\n",
        "    print(\"Cubes:\", cubes)\n",
        "thread1 = threading.Thread(target=print_squares)\n",
        "thread2 = threading.Thread(target=print_cubes)\n",
        "thread1.start()\n",
        "thread1.join()\n",
        "thread2.start()\n",
        "thread2.join()"
      ],
      "metadata": {
        "colab": {
          "base_uri": "https://localhost:8080/"
        },
        "id": "m6qEgc68AW6F",
        "outputId": "9591732d-5781-4159-aa09-718feb540b85"
      },
      "execution_count": 11,
      "outputs": [
        {
          "output_type": "stream",
          "name": "stdout",
          "text": [
            "Squares: [0, 1, 4, 9, 16, 25, 36, 49, 64, 81]\n",
            "Cubes: [0, 1, 8, 27, 64, 125, 216, 343, 512, 729]\n"
          ]
        }
      ]
    },
    {
      "cell_type": "markdown",
      "source": [
        "Q5. State advantages and disadvantages of multithreading."
      ],
      "metadata": {
        "id": "AmSFqweQA42z"
      }
    },
    {
      "cell_type": "code",
      "source": [
        "'''\n",
        "Advantages:\n",
        "Increased Performance: Allows tasks to run concurrently, improving performance for I/O-bound operations.\n",
        "Responsiveness: Keeps applications responsive by allowing background tasks to run while the main thread remains available for user interaction.\n",
        "Resource Sharing: Threads share the same memory space, making it easier to share data between them.\n",
        "Disadvantages:\n",
        "Complexity: Multithreading can introduce complexity in code, making it harder to understand and maintain.\n",
        "Debugging Difficulty: Bugs like race conditions and deadlocks can occur, making debugging more challenging.\n",
        "Overhead: Thread management can introduce overhead that can negate performance benefits, especially for CPU-bound tasks.\n",
        "'''\n",
        "a=5"
      ],
      "metadata": {
        "id": "GNC-unKMArBl"
      },
      "execution_count": 12,
      "outputs": []
    },
    {
      "cell_type": "markdown",
      "source": [
        "Q6. Explain deadlocks and race conditions."
      ],
      "metadata": {
        "id": "yTR4HJbXBBlX"
      }
    },
    {
      "cell_type": "code",
      "source": [
        "'''\n",
        "Deadlocks: A deadlock occurs when two or more threads are waiting indefinitely for resources held by each other.\n",
        "For example, if Thread A holds Resource 1 and is waiting for Resource 2, while Thread B holds Resource 2 and is\n",
        "waiting for Resource 1, neither thread can proceed.\n",
        "Race Conditions: A race condition happens when multiple threads access shared data and try to change it at the\n",
        "same time. If the timing of the thread execution affects the correctness of the program, it can lead to\n",
        "inconsistent or unexpected results.\n",
        "'''\n",
        "a=6"
      ],
      "metadata": {
        "id": "n5gct_xeA_Ws"
      },
      "execution_count": 13,
      "outputs": []
    },
    {
      "cell_type": "code",
      "source": [],
      "metadata": {
        "id": "du1oCCXEBGws"
      },
      "execution_count": null,
      "outputs": []
    }
  ]
}