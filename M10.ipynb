{
  "nbformat": 4,
  "nbformat_minor": 0,
  "metadata": {
    "colab": {
      "provenance": []
    },
    "kernelspec": {
      "name": "python3",
      "display_name": "Python 3"
    },
    "language_info": {
      "name": "python"
    }
  },
  "cells": [
    {
      "cell_type": "code",
      "execution_count": null,
      "metadata": {
        "id": "FXifUph6ukUA"
      },
      "outputs": [],
      "source": []
    },
    {
      "cell_type": "markdown",
      "source": [
        " _Q 1) What is an Exception in python? Write the difference between Exceptions and Syntax errors."
      ],
      "metadata": {
        "id": "BSUVnK8avK1p"
      }
    },
    {
      "cell_type": "code",
      "source": [
        "#Answer:\n",
        "'''\n",
        "exception is an error that occurs during the execution of a program. When an exception is raised,\n",
        "the normal flow of the program is interrupted, and Python attempts to handle the error using a\n",
        "mechanism called exception handling.\n",
        "\n",
        "Definition:\n",
        "Exception: Occurs during program execution (runtime). Examples include division by zero, file not\n",
        "found, and type errors.\n",
        "Syntax Error: Occurs when the code violates the syntax rules of the Python language. Examples include\n",
        " missing colons, unmatched parentheses, or improper indentation.\n",
        "\n",
        "Timing:\n",
        "Exception: Detected when the code is running.\n",
        "Syntax Error: Detected when the code is being parsed before execution.\n",
        "\n",
        "Handling:\n",
        "Exception: Can be caught and handled using try and except blocks.\n",
        "Syntax Error: Must be fixed before the program can run; it cannot be\n",
        "caught with exception handling.\n",
        "\n",
        "'''\n",
        "a=1"
      ],
      "metadata": {
        "id": "snNMh_T_vPXn"
      },
      "execution_count": 6,
      "outputs": []
    },
    {
      "cell_type": "markdown",
      "source": [
        "_Q 2. What happens when an exception is not handled? Explain with an example."
      ],
      "metadata": {
        "id": "dCgoXbODw0Tj"
      }
    },
    {
      "cell_type": "code",
      "source": [
        "#Answer 2:\n",
        "'''\n",
        "When an exception is not handled in Python, it leads to the program terminating abruptly.\n",
        "Python raises the exception and displays a traceback message, which includes information about\n",
        "the error type, the line of code where it occurred, and the call stack leading up to that point. This can\n",
        "be helpful for debugging but results in the program crashing.\n",
        "'''\n",
        "# This code is with exception handling\n",
        "# Attempting to open a non-existent file with exception handling\n",
        "file_name = \"non_existent_file.txt\"\n",
        "\n",
        "try:\n",
        "    file = open(file_name, \"r\")\n",
        "    content = file.read()\n",
        "    print(content)\n",
        "except FileNotFoundError:\n",
        "    print(f\"This is Exception Handling: The file '{file_name}' was not found.\")\n"
      ],
      "metadata": {
        "colab": {
          "base_uri": "https://localhost:8080/"
        },
        "id": "msNhbu6Kw3BL",
        "outputId": "7083f6ed-5d54-4c88-ed45-1340feddc479"
      },
      "execution_count": 10,
      "outputs": [
        {
          "output_type": "stream",
          "name": "stdout",
          "text": [
            "This is Exception Handling: The file 'non_existent_file.txt' was not found.\n"
          ]
        }
      ]
    },
    {
      "cell_type": "code",
      "source": [
        "# This code is without exception handling\n",
        "file_name = \"non_existent_file.txt\"\n",
        "file = open(file_name, \"r\")\n",
        "content = file.read()\n",
        "print(content)\n"
      ],
      "metadata": {
        "id": "r2AgZeyVxSAv"
      },
      "execution_count": null,
      "outputs": []
    },
    {
      "cell_type": "markdown",
      "source": [
        "_Q 3) Which Python statements are used to catch and handle exceptions? Explain with an example."
      ],
      "metadata": {
        "id": "bXRblFhfyJhg"
      }
    },
    {
      "cell_type": "code",
      "source": [
        "#Answer 3:\n",
        "'''\n",
        "In python the statements used to catch and handle exceptions are try, except, else, and finally.\n",
        "try: This block contains the code that might raise an exception.\n",
        "except: This block is used to handle the exception. You can specify different types\n",
        " of exceptions to catch specific errors.\n",
        "else: This block runs if no exceptions were raised in the try block.\n",
        "finally: This block runs no matter what, whether an exception was raised or not. It's often\n",
        "used for cleanup actions, like closing files.\n",
        "'''\n",
        "\n",
        "#Example:\n",
        "\n",
        "def divide_numbers(a, b):\n",
        "    try:\n",
        "        result = a / b\n",
        "    except ZeroDivisionError:\n",
        "        print(\"Error: Cannot divide by zero.\")\n",
        "    except TypeError:\n",
        "        print(\"Error: Both arguments must be numbers.\")\n",
        "    else:\n",
        "        print(f\"The result is: {result}\")\n",
        "    finally:\n",
        "        print(\"Execution of divide_numbers complete.\")\n",
        "divide_numbers(10, 2)\n",
        "divide_numbers(10, 0)\n",
        "divide_numbers(10, \"a\")\n"
      ],
      "metadata": {
        "colab": {
          "base_uri": "https://localhost:8080/"
        },
        "id": "9EQkguVYyQxC",
        "outputId": "f7a26602-76ac-4b10-de3b-47db7ea03ce8"
      },
      "execution_count": 12,
      "outputs": [
        {
          "output_type": "stream",
          "name": "stdout",
          "text": [
            "The result is: 5.0\n",
            "Execution of divide_numbers complete.\n",
            "Error: Cannot divide by zero.\n",
            "Execution of divide_numbers complete.\n",
            "Error: Both arguments must be numbers.\n",
            "Execution of divide_numbers complete.\n"
          ]
        }
      ]
    },
    {
      "cell_type": "markdown",
      "source": [
        "_Q 4) Explain with an example:\n",
        " (a)try and else\n",
        " (b)finall\n",
        "(c)raise"
      ],
      "metadata": {
        "id": "T1IUyAory4ah"
      }
    },
    {
      "cell_type": "code",
      "source": [
        "#Answer 4\n",
        "'''\n",
        "try and else:\n",
        "The try block contains code that might raise an exception. If no exception occurs, the\n",
        "else block executes. This is useful for code that should only run if the try block is successful.\n",
        "Finally:\n",
        "The finally block is used to define cleanup actions that should occur regardless of whether an exception\n",
        "was raised or not. It always executes after the try and except blocks.\n",
        "raise:\n",
        "The raise statement is used to raise an exception manually. we can use it to trigger exceptions based on specific conditions in your code.\n",
        "'''\n",
        "\n",
        "#Example\n",
        "\n",
        "def safe_divide(a, b):\n",
        "    try:\n",
        "        if b == 0:\n",
        "            raise ZeroDivisionError(\"You cannot divide by zero.\")\n",
        "        result = a / b\n",
        "    except ZeroDivisionError as e:\n",
        "        print(f\"Error: {e}\")\n",
        "    else:\n",
        "        print(f\"The result is: {result}\")\n",
        "    finally:\n",
        "        print(\"Execution of safe_divide complete.\")\n",
        "safe_divide(10, 2)\n",
        "safe_divide(10, 0)\n"
      ],
      "metadata": {
        "colab": {
          "base_uri": "https://localhost:8080/"
        },
        "id": "1mmQmIUxyzGB",
        "outputId": "5d1e6bc5-d848-4780-c538-dfd9b22887bb"
      },
      "execution_count": 14,
      "outputs": [
        {
          "output_type": "stream",
          "name": "stdout",
          "text": [
            "The result is: 5.0\n",
            "Execution of safe_divide complete.\n",
            "Error: You cannot divide by zero.\n",
            "Execution of safe_divide complete.\n"
          ]
        }
      ]
    },
    {
      "cell_type": "markdown",
      "source": [
        "Q5. What are Custom Exceptions in python? Why do we need Custom Exceptions? Explain with an example."
      ],
      "metadata": {
        "id": "JY6gqIO91bmO"
      }
    },
    {
      "cell_type": "code",
      "source": [
        "'''\n",
        "Custom exceptions in Python are user-defined exceptions that extend the built-in Exception\n",
        "class. They allow developers to create specific error types tailored to the application's\n",
        "needs, enabling more precise error handling and clearer code.\n",
        "\n",
        "Custom exceptions can provide more meaningful error messages specific to the application's\n",
        "context, making it easier to understand what went wrong.\n",
        "They help in distinguishing between different error types, allowing for more granular error handling.\n",
        "Custom exceptions can make the code easier to maintain and modify, as they clearly define the errors that\n",
        "can occur in a particular module or function.\n",
        "'''\n",
        "class InvalidAgeError(Exception):\n",
        "    pass\n",
        "\n",
        "def set_age(age):\n",
        "    if age < 0 or age > 120:\n",
        "        raise InvalidAgeError(\"Age must be between 0 and 120.\")\n",
        "    print(f\"Age is set to {age}.\")\n",
        "try:\n",
        "    set_age(150)\n",
        "except InvalidAgeError as e:\n",
        "    print(f\"Error: {e}\")\n",
        "try:\n",
        "    set_age(25)  # Valid age\n",
        "except InvalidAgeError as e:\n",
        "    print(f\"Error: {e}\")\n"
      ],
      "metadata": {
        "colab": {
          "base_uri": "https://localhost:8080/"
        },
        "id": "zQGmWtP31QQG",
        "outputId": "47d559cd-b9d6-423c-8303-9b47c2b7ea86"
      },
      "execution_count": 15,
      "outputs": [
        {
          "output_type": "stream",
          "name": "stdout",
          "text": [
            "Error: Age must be between 0 and 120.\n",
            "Age is set to 25.\n"
          ]
        }
      ]
    },
    {
      "cell_type": "markdown",
      "source": [
        "Q6. Create a custom exception class. Use this class to handle an exception."
      ],
      "metadata": {
        "id": "DsF11GkW3-N5"
      }
    },
    {
      "cell_type": "code",
      "source": [
        "class NegativeNumberError(Exception):\n",
        "    pass\n",
        "def square_root(number):\n",
        "    if number < 0:\n",
        "        raise NegativeNumberError(\"Cannot compute the square root of a negative number.\")\n",
        "    return number ** 0.5\n",
        "try:\n",
        "    print(square_root(-4))\n",
        "except NegativeNumberError as e:\n",
        "    print(f\"Error: {e}\")\n",
        "try:\n",
        "    print(square_root(16))\n",
        "except NegativeNumberError as e:\n",
        "    print(f\"Error: {e}\")"
      ],
      "metadata": {
        "colab": {
          "base_uri": "https://localhost:8080/"
        },
        "id": "EJyfFuAf35JZ",
        "outputId": "cfad0353-fcb1-462e-9a23-093d2bcfefea"
      },
      "execution_count": 16,
      "outputs": [
        {
          "output_type": "stream",
          "name": "stdout",
          "text": [
            "Error: Cannot compute the square root of a negative number.\n",
            "4.0\n"
          ]
        }
      ]
    },
    {
      "cell_type": "code",
      "source": [],
      "metadata": {
        "id": "Niuq2_J24RKd"
      },
      "execution_count": null,
      "outputs": []
    }
  ]
}